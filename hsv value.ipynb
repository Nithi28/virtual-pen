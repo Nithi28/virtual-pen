{
 "cells": [
  {
   "cell_type": "code",
   "execution_count": 4,
   "metadata": {},
   "outputs": [
    {
     "ename": "KeyboardInterrupt",
     "evalue": "",
     "output_type": "error",
     "traceback": [
      "\u001b[1;31m---------------------------------------------------------------------------\u001b[0m",
      "\u001b[1;31mKeyboardInterrupt\u001b[0m                         Traceback (most recent call last)",
      "\u001b[1;32m<ipython-input-4-cdb23e124bb6>\u001b[0m in \u001b[0;36m<module>\u001b[1;34m\u001b[0m\n\u001b[0;32m     22\u001b[0m \u001b[1;33m\u001b[0m\u001b[0m\n\u001b[0;32m     23\u001b[0m \u001b[1;32mwhile\u001b[0m \u001b[1;32mTrue\u001b[0m\u001b[1;33m:\u001b[0m\u001b[1;33m\u001b[0m\u001b[1;33m\u001b[0m\u001b[0m\n\u001b[1;32m---> 24\u001b[1;33m     \u001b[0mret\u001b[0m\u001b[1;33m,\u001b[0m\u001b[0mframe\u001b[0m \u001b[1;33m=\u001b[0m \u001b[0mcap\u001b[0m\u001b[1;33m.\u001b[0m\u001b[0mread\u001b[0m\u001b[1;33m(\u001b[0m\u001b[1;33m)\u001b[0m\u001b[1;33m\u001b[0m\u001b[1;33m\u001b[0m\u001b[0m\n\u001b[0m\u001b[0;32m     25\u001b[0m     \u001b[1;32mif\u001b[0m \u001b[1;32mnot\u001b[0m \u001b[0mret\u001b[0m\u001b[1;33m:\u001b[0m\u001b[1;33m\u001b[0m\u001b[1;33m\u001b[0m\u001b[0m\n\u001b[0;32m     26\u001b[0m         \u001b[1;32mbreak\u001b[0m\u001b[1;33m\u001b[0m\u001b[1;33m\u001b[0m\u001b[0m\n",
      "\u001b[1;31mKeyboardInterrupt\u001b[0m: "
     ]
    }
   ],
   "source": [
    "import cv2\n",
    "import time\n",
    "import numpy as np\n",
    "\n",
    "def nothing(x):\n",
    "    pass\n",
    "\n",
    "cap =  cv2.VideoCapture(0)\n",
    "cap.set(3,1280)\n",
    "cap.set(4,720)\n",
    "\n",
    "\n",
    "\n",
    "cv2.namedWindow(\"trackbars\")\n",
    "#creating trackbar\n",
    "cv2.createTrackbar(\"L - H\",\"trackbars\",0,179,nothing)\n",
    "cv2.createTrackbar(\"L - S\",\"trackbars\",0,255,nothing)\n",
    "cv2.createTrackbar(\"L - V\",\"trackbars\",0,255,nothing)\n",
    "cv2.createTrackbar(\"U - H\",\"trackbars\",179,179,nothing)\n",
    "cv2.createTrackbar(\"U - S\",\"trackbars\",255,255,nothing)\n",
    "cv2.createTrackbar(\"U - V\",\"trackbars\",255,255,nothing)\n",
    "\n",
    "while True:\n",
    "    ret,frame = cap.read()\n",
    "    if not ret:\n",
    "        break\n",
    "    frame = cv2.flip(frame,1)\n",
    "    hsv = cv2.cvtColor(frame, cv2.COLOR_BGR2HSV)\n",
    "    \n",
    "    #get current position of trackbar\n",
    "    l_h = cv2.getTrackbarPos(\"L - H\",\"trackbars\")\n",
    "    l_s = cv2.getTrackbarPos(\"L - S\",\"trackbars\")\n",
    "    l_v = cv2.getTrackbarPos(\"L - V\",\"trackbars\")\n",
    "    u_h = cv2.getTrackbarPos(\"U - H\",\"trackbars\")\n",
    "    u_s = cv2.getTrackbarPos(\"U - S\",\"trackbars\")\n",
    "    u_v = cv2.getTrackbarPos(\"U - V\",\"trackbars\")\n",
    "    \n",
    "    lower_range = np.array([l_h,l_s,l_v])\n",
    "    upper_range = np.array([u_h,u_s,u_v])\n",
    "    \n",
    "    mask = cv2.inRange(hsv,lower_range,upper_range)\n",
    "    \n",
    "    res = cv2.bitwise_and(frame,frame, mask=mask)\n",
    "    \n",
    "    mask_3 = cv2.cvtColor(mask, cv2.COLOR_GRAY2BGR)\n",
    "    \n",
    "    stacked = np.hstack((mask_3,frame,res))\n",
    "    \n",
    "    cv2.imshow(\"trackbars\",cv2.resize(stacked,None,fx=0.4,fy=0.4))\n",
    "    \n",
    "    key = cv2.waitKey(1)\n",
    "    \n",
    "    if key ==27:\n",
    "        break\n",
    "    \n",
    "    if key == ord('s'):\n",
    "        thearray = [[l_h,l_s,l_v],[u_h,u_s,u_v]]\n",
    "        print(thearray)\n",
    "        \n",
    "        np.save(\"hsv_value1\",thearray)\n",
    "        break\n",
    "    \n",
    "cap.release()\n",
    "cv2.destroyAllWindows()"
   ]
  },
  {
   "cell_type": "code",
   "execution_count": null,
   "metadata": {},
   "outputs": [],
   "source": []
  },
  {
   "cell_type": "code",
   "execution_count": null,
   "metadata": {},
   "outputs": [],
   "source": []
  }
 ],
 "metadata": {
  "kernelspec": {
   "display_name": "Python 3",
   "language": "python",
   "name": "python3"
  },
  "language_info": {
   "codemirror_mode": {
    "name": "ipython",
    "version": 3
   },
   "file_extension": ".py",
   "mimetype": "text/x-python",
   "name": "python",
   "nbconvert_exporter": "python",
   "pygments_lexer": "ipython3",
   "version": "3.7.6"
  }
 },
 "nbformat": 4,
 "nbformat_minor": 4
}
